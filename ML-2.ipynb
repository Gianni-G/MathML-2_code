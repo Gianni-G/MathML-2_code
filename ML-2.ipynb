{
 "cells": [
  {
   "cell_type": "code",
   "execution_count": 1,
   "metadata": {},
   "outputs": [],
   "source": [
    "import util\n",
    "import matplotlib.pyplot as plt\n",
    "import plotly.graph_objects as go\n",
    "import seaborn as sns\n",
    "import numpy as np\n",
    "import statsmodels.api as sm\n",
    "import random\n",
    "from ipywidgets import interact\n",
    "from collections import defaultdict, Counter\n",
    "from scipy.spatial import distance\n",
    "from scipy.cluster import hierarchy\n",
    "from numpy import mean\n",
    "from functools import partial"
   ]
  },
  {
   "cell_type": "code",
   "execution_count": 2,
   "metadata": {},
   "outputs": [],
   "source": [
    "sns.set(\n",
    "    rc = {'figure.figsize':(25,20)},\n",
    "    font=\"Courier\"\n",
    "    )\n",
    "\n",
    "def plot(vector,\n",
    "    xticklabels = None,\n",
    "    yticklabels = None,\n",
    "    vmin = None,\n",
    "    vmax = None,\n",
    "    labelbottom = False,\n",
    "    labelright = False,\n",
    "    save = None,\n",
    "\n",
    "    ):\n",
    "    hm = sns.heatmap(\n",
    "        vector,\n",
    "        xticklabels=xticklabels,\n",
    "        yticklabels=yticklabels,\n",
    "        linewidths=.5,\n",
    "        cmap=\"coolwarm\",#\"YlGnBu\",\n",
    "        center = 0,\n",
    "        vmin = vmin,\n",
    "        vmax = vmax,\n",
    "        square=True,\n",
    "        ).tick_params(\n",
    "            axis='both',\n",
    "            which='major',\n",
    "            labelsize=11,\n",
    "            labelbottom = labelbottom,\n",
    "            labelright = labelright, \n",
    "            bottom=False, \n",
    "            top = False, \n",
    "            labeltop=True)\n",
    "    \n",
    "    plt.yticks(rotation=0) \n",
    "    if save != None:\n",
    "        plt.savefig(save)\n",
    "    return hm"
   ]
  },
  {
   "cell_type": "code",
   "execution_count": 3,
   "metadata": {},
   "outputs": [],
   "source": [
    "def pmi_matrix(\n",
    "    terms,\n",
    "    contexts,\n",
    "    ng1,\n",
    "    ng2,\n",
    "    ng3,\n",
    "    context_side = \"right\",\n",
    "    independent = False, # Two possibilities: False: empirical prob of t | True: p(t left)*p(t right)\n",
    "    inf_value = -1,\n",
    "    ):\n",
    "    total = sum([ng1[e] for e in elements])\n",
    "\n",
    "    matrix = []\n",
    "    for i in terms:\n",
    "        if len(i)==1:\n",
    "            nt = ng1.get(i,0)\n",
    "            Pt = nt/total\n",
    "        elif len(i)==2:\n",
    "            if independent:\n",
    "                ntl = ng1.get(i[0],0)\n",
    "                ntr = ng1.get(i[1],0)\n",
    "                Pt = (ntl/total)*(ntr/total)\n",
    "            else:\n",
    "                nt = ng2.get(i,0)\n",
    "                Pt = nt/total\n",
    "\n",
    "        row = []\n",
    "        for j in contexts:\n",
    "            nc = ng1.get(j,0)\n",
    "            Pc = nc/total\n",
    "\n",
    "            tc = i+j if context_side == \"right\" else j+i\n",
    "            if len(i)==1:\n",
    "                ntc = ng2.get(tc,0)\n",
    "            elif len(i)==2:\n",
    "                ntc = ng3.get(tc,0)\n",
    "            \n",
    "            Ptc = ntc/total\n",
    "            if Ptc == 0:\n",
    "                # the value of pmi when Ptc = 0 should be reconsidered (the best would probably be to use min of the matrix or have a variable measure depending on the prob of the term and context)\n",
    "                pmi = inf_value\n",
    "            else:\n",
    "                pmi = np.log(Ptc/(Pt*Pc))/-np.log(Ptc)\n",
    "\n",
    "            row.append(pmi)\n",
    "        \n",
    "        matrix.append(row)\n",
    "\n",
    "    matrix = np.array(matrix)\n",
    "    return matrix"
   ]
  },
  {
   "cell_type": "code",
   "execution_count": 4,
   "metadata": {},
   "outputs": [],
   "source": [
    "path_data = \"./data/\"\n",
    "path_media = \"./media/\""
   ]
  },
  {
   "cell_type": "code",
   "execution_count": 5,
   "metadata": {},
   "outputs": [],
   "source": [
    "\n",
    "ng1_raw = util.load_file(path_data + \"1_10.json\")\n",
    "ng2_raw = util.load_file(path_data + \"2_10.json\")\n",
    "ng3_raw = util.load_file(path_data + \"3_10.json\")\n",
    "ng4_raw = util.load_file(path_data + \"4_10.json\")"
   ]
  },
  {
   "cell_type": "code",
   "execution_count": 6,
   "metadata": {},
   "outputs": [],
   "source": [
    "punctuation = \" \\n\\t.,;:|()[]\\{\\}\\xa0'’‘\\\"”“?!\"\n",
    "ng1 = defaultdict(int)\n",
    "for k,v in ng1_raw.items():\n",
    "    if k not in punctuation:\n",
    "        ng1[k.lower()] += v"
   ]
  },
  {
   "cell_type": "code",
   "execution_count": 7,
   "metadata": {},
   "outputs": [],
   "source": [
    "ng2 = defaultdict(int)\n",
    "for (kl,kr),v in ng2_raw.items():\n",
    "    if kl not in punctuation and kr not in punctuation:\n",
    "        ng2[(kl+kr).lower()] += v\n",
    "\n",
    "for (kl,kc,kr),v in ng3_raw.items():\n",
    "    if kc in punctuation and kl not in punctuation and kr not in punctuation:\n",
    "        ng2[(kl+kr).lower()] += v\n",
    "ng3 = defaultdict(int)\n",
    "\n",
    "for (kl,kc,kr),v in ng3_raw.items():\n",
    "    if kl not in punctuation and kc not in punctuation and kr not in punctuation:\n",
    "        ng3[(kl+kc+kr).lower()] += v\n",
    "\n",
    "for (kl,kcl,kcr,kr),v in ng4_raw.items():\n",
    "    if kcl in punctuation:\n",
    "        if kcr in punctuation:\n",
    "            if kl not in punctuation and kr not in punctuation:\n",
    "                ng2[(kl+kr).lower()] += v\n",
    "        elif kl not in punctuation and kr not in punctuation:\n",
    "            ng3[(kl+kcr+kr).lower()] += v\n",
    "    elif kcr in punctuation:\n",
    "        ng3[(kl+kcl+kr).lower()] += v\n"
   ]
  },
  {
   "cell_type": "code",
   "execution_count": 8,
   "metadata": {},
   "outputs": [
    {
     "name": "stdout",
     "output_type": "stream",
     "text": [
      "['e', 'a', 't', 'i', 'n', 'o', 'r', 's', 'l', 'h', 'd', 'c', 'u', 'm', 'f', 'g', 'p', 'y', 'w', 'b', 'v', '1', 'k', '0', '2', '9', '-', '8', 'x', '3', '5', '6', '7', '4', 'j', 'z', '–', 'q', '=', '/']\n"
     ]
    }
   ],
   "source": [
    "elements = [k for k,v in ng1.items()][:40]# + [\"+\",\"<\",\">\",\"×\"]\n",
    "print(elements)"
   ]
  },
  {
   "cell_type": "code",
   "execution_count": 9,
   "metadata": {},
   "outputs": [],
   "source": [
    "elements = sorted(elements)\n",
    "elements_dict = {k:i for i,k in enumerate(elements)}"
   ]
  },
  {
   "cell_type": "code",
   "execution_count": 10,
   "metadata": {},
   "outputs": [
    {
     "name": "stdout",
     "output_type": "stream",
     "text": [
      "Building oR Matrix...\n",
      "Term-Context Matrix built in 0.02 secs.\n",
      "\n"
     ]
    }
   ],
   "source": [
    "a_M = util.build_term_context_matrix(elements, elements, ng2)\n",
    "a_M = a_M.toarray()\n",
    "a_pmi = pmi_matrix(elements,elements,ng1,ng2,ng3,independent=False)"
   ]
  },
  {
   "cell_type": "code",
   "execution_count": 11,
   "metadata": {},
   "outputs": [
    {
     "name": "stderr",
     "output_type": "stream",
     "text": [
      "findfont: Font family ['Courier'] not found. Falling back to DejaVu Sans.\n"
     ]
    },
    {
     "data": {
      "image/png": "[encoded data removed]",
      "text/plain": [
       "<Figure size 1800x1440 with 2 Axes>"
      ]
     },
     "metadata": {},
     "output_type": "display_data"
    }
   ],
   "source": [
    "plot(a_pmi,elements,elements);"
   ]
  },
  {
   "cell_type": "code",
   "execution_count": 12,
   "metadata": {},
   "outputs": [],
   "source": [
    "# plt.savefig(path_media + \"pmi_matrix.pdf\")"
   ]
  },
  {
   "cell_type": "code",
   "execution_count": 13,
   "metadata": {},
   "outputs": [],
   "source": [
    "methods = [\"single\", \"complete\", \"average\", \"weighted\", \"centroid\", \"median\", \"ward\"]\n",
    "method = \"ward\"\n",
    "row_linkage = hierarchy.linkage(\n",
    "    distance.pdist(a_pmi), method=method)\n",
    "\n",
    "col_linkage = hierarchy.linkage(\n",
    "    distance.pdist(a_pmi.T), method=method)\n",
    "\n",
    "sym_linkage = hierarchy.linkage(\n",
    "    distance.pdist(a_pmi+a_pmi.T), method=method)"
   ]
  },
  {
   "cell_type": "code",
   "execution_count": 14,
   "metadata": {},
   "outputs": [],
   "source": [
    "def llf(R, id,):\n",
    "    n = len(elements)\n",
    "    if id < n:\n",
    "        return elements[id]\n",
    "    else:\n",
    "        label = [id]\n",
    "        while max(label)>=n:\n",
    "            new_label = []\n",
    "            for l in label:\n",
    "                if l<n:\n",
    "                    new_label.append(l)\n",
    "                else:\n",
    "                    new_label.append(int(R[l-n,0]))\n",
    "                    new_label.append(int(R[l-n,1]))\n",
    "            label = new_label\n",
    "        label = \"{ \" + \" \".join([elements[l] for l in label]) + \" }\"\n",
    "\n",
    "        return label"
   ]
  },
  {
   "cell_type": "code",
   "execution_count": 22,
   "metadata": {},
   "outputs": [
    {
     "data": {
      "text/plain": [
       "<Figure size 1800x360 with 0 Axes>"
      ]
     },
     "metadata": {},
     "output_type": "display_data"
    },
    {
     "data": {
      "application/vnd.jupyter.widget-view+json": {
       "model_id": "aa59ebc8b5ae4f5995a552b5964f7004",
       "version_major": 2,
       "version_minor": 0
      },
      "text/plain": [
       "interactive(children=(IntSlider(value=40, description='p', max=40, min=1), Dropdown(description='truncate_mode…"
      ]
     },
     "metadata": {},
     "output_type": "display_data"
    }
   ],
   "source": [
    "fig = plt.figure(figsize=(25, 5))\n",
    "plt.rcParams.update({'axes.facecolor':'white'})\n",
    "# plt.rcdefaults()\n",
    "@interact(p=(1,len(elements),1), truncate_mode = [\"lastp\", \"level\"], save = False)\n",
    "def h_clus_cols(p=len(elements),truncate_mode = \"lastp\", save = False):\n",
    "    plt.figure(figsize=(25, 5))\n",
    "    hierarchy.dendrogram(\n",
    "        sym_linkage, #col_linkage,\n",
    "        labels=elements,\n",
    "        p = p,\n",
    "        color_threshold = 3,\n",
    "        truncate_mode = truncate_mode, #\"lastp\", #'lastp', None, \"level\"\n",
    "        leaf_label_func=partial(llf, sym_linkage),\n",
    "        leaf_rotation=0,\n",
    "        get_leaves = True\n",
    "        );\n",
    "    plt.grid(b=True, which='major', axis='y',color='lightgrey', linestyle='-', linewidth=.1)\n",
    "    plt.xlabel('Clusters',fontsize=16)\n",
    "    plt.ylabel(f'distance ({method})',fontsize=16)\n",
    "    plt.xticks(fontfamily=\"monospace\",fontsize=10),\n",
    "    if save:\n",
    "        plt.savefig(path_media + \"dendrogram.pdf\");"
   ]
  },
  {
   "cell_type": "code",
   "execution_count": 23,
   "metadata": {},
   "outputs": [
    {
     "data": {
      "image/png": "[encoded data removed]",
      "text/plain": [
       "<Figure size 936x936 with 4 Axes>"
      ]
     },
     "metadata": {},
     "output_type": "display_data"
    }
   ],
   "source": [
    "hc_heatmap = sns.clustermap(\n",
    "    a_pmi,\n",
    "    row_linkage=sym_linkage,#row_linkage,\n",
    "    col_linkage=sym_linkage,#col_linkage,\n",
    "    method=\"ward\",\n",
    "    xticklabels = elements,\n",
    "    yticklabels = elements,\n",
    "    center = 0,\n",
    "    figsize=(13, 13),\n",
    "    dendrogram_ratio=(.1, .1),\n",
    "    linewidths=.5,\n",
    "    cmap=\"coolwarm\",\n",
    "    cbar_pos=(1.02, 0.03, .03, .87),\n",
    "    );\n",
    "plt.setp(hc_heatmap.ax_heatmap.yaxis.get_majorticklabels(), rotation=0);"
   ]
  },
  {
   "cell_type": "code",
   "execution_count": 24,
   "metadata": {},
   "outputs": [],
   "source": [
    "# hc_heatmap.savefig(path_media + \"hcluster_normPMI.pdf\")"
   ]
  },
  {
   "cell_type": "code",
   "execution_count": 25,
   "metadata": {},
   "outputs": [],
   "source": [
    "def type_matrix(row_thres=2,col_thres=2):\n",
    "\n",
    "    cluster_labels_rows = hierarchy.fcluster(row_linkage, row_thres, criterion='distance')\n",
    "    cluster_labels_cols = hierarchy.fcluster(col_linkage, col_thres, criterion='distance')\n",
    "    cluster_labels_sym = hierarchy.fcluster(sym_linkage, col_thres, criterion='distance')\n",
    "    cluster_labels_rows = cluster_labels_sym\n",
    "    cluster_labels_cols = cluster_labels_sym\n",
    "\n",
    "    max_cluster_rows = max(cluster_labels_rows)\n",
    "    max_cluster_cols = max(cluster_labels_cols)\n",
    "\n",
    "    reduced_rows = np.vstack([mean(a_pmi[cluster_labels_rows==cluster],axis=0) for cluster in range(1,max_cluster_rows+1)])\n",
    "    reduced_rows_labels = [\" \".join(np.array(elements)[cluster_labels_rows==cluster].tolist()) for cluster in range(1,max_cluster_rows+1)]\n",
    "\n",
    "    reduced_cols = np.vstack([mean(reduced_rows[:,cluster_labels_cols==cluster],axis=1).T for cluster in range(1,max_cluster_cols+1)]).T\n",
    "    reduced_cols_labels = [\" \".join(np.array(elements)[cluster_labels_cols==cluster].tolist()) for cluster in range(1,max_cluster_cols+1)]\n",
    "    reduced_rows_labels = [label[:int(len(label)/2)] + \"\\n\" + label[int(len(label)/2):] if len(label)>5 else label for label in reduced_rows_labels]\n",
    "\n",
    "    reduced_cols_labels = [label[:int(len(label)/2)] + \"\\n\" + label[int(len(label)/2):] if len(label)>5 else label for label in reduced_cols_labels]\n",
    "    sns.set(\n",
    "        rc = {'figure.figsize':(10,10)},\n",
    "        font=\"Courier\"\n",
    "        )\n",
    "    matrix_plot = plot(reduced_cols,reduced_cols_labels,reduced_rows_labels)\n",
    "    return matrix_plot"
   ]
  },
  {
   "cell_type": "code",
   "execution_count": 26,
   "metadata": {},
   "outputs": [
    {
     "data": {
      "application/vnd.jupyter.widget-view+json": {
       "model_id": "680feb1a3c0b4420b962d1f460a132d5",
       "version_major": 2,
       "version_minor": 0
      },
      "text/plain": [
       "interactive(children=(FloatSlider(value=2.0, description='row_thres', max=6.938287937614307, min=0.10270496279…"
      ]
     },
     "metadata": {},
     "output_type": "display_data"
    }
   ],
   "source": [
    "row_max = max(row_linkage[:,2])\n",
    "row_min = min(row_linkage[:,2])\n",
    "col_max = max(col_linkage[:,2])\n",
    "col_min = min(col_linkage[:,2])\n",
    "\n",
    "\n",
    "interact(type_matrix, row_thres=(row_min, row_max, .01), col_thres=(col_min,col_max,.01));"
   ]
  },
  {
   "cell_type": "code",
   "execution_count": 27,
   "metadata": {},
   "outputs": [],
   "source": [
    "cluster_labels_rows = hierarchy.fcluster(row_linkage, 2, criterion='distance')\n",
    "cluster_labels_cols = hierarchy.fcluster(col_linkage, 2, criterion='distance')\n",
    "\n",
    "max_cluster_rows = max(cluster_labels_rows)\n",
    "max_cluster_cols = max(cluster_labels_cols)\n",
    "reduced_rows = np.vstack([np.mean(a_pmi[cluster_labels_rows==cluster],axis=0) for cluster in range(1,max_cluster_rows+1)])\n",
    "reduced_rows_labels = [\" \".join(np.array(elements)[cluster_labels_rows==cluster].tolist()) for cluster in range(1,max_cluster_rows+1)]\n",
    "\n",
    "reduced_cols = np.vstack([np.mean(reduced_rows[:,cluster_labels_cols==cluster],axis=1).T for cluster in range(1,max_cluster_cols+1)]).T\n",
    "reduced_cols_labels = [\" \".join(np.array(elements)[cluster_labels_cols==cluster].tolist()) for cluster in range(1,max_cluster_cols+1)]\n",
    "\n",
    "reduced_rows_labels = [label[:int(len(label)/2)] + \"\\n\" + label[int(len(label)/2):] if len(label)>5 else label for label in reduced_rows_labels]\n",
    "\n",
    "reduced_cols_labels = [label[:int(len(label)/2)] + \"\\n\" + label[int(len(label)/2):] if len(label)>5 else label for label in reduced_cols_labels]"
   ]
  },
  {
   "cell_type": "code",
   "execution_count": 30,
   "metadata": {},
   "outputs": [
    {
     "data": {
      "image/png": "[encoded data removed]",
      "text/plain": [
       "<Figure size 1080x1080 with 2 Axes>"
      ]
     },
     "metadata": {},
     "output_type": "display_data"
    }
   ],
   "source": [
    "sns.set(\n",
    "    rc = {'figure.figsize':(15,15)},\n",
    "    font=\"Courier\"\n",
    "    )\n",
    "plot(reduced_cols,reduced_cols_labels,reduced_rows_labels, save = \"/Users/Gianni/Desktop/type_matrix.pdf\")"
   ]
  },
  {
   "cell_type": "code",
   "execution_count": 32,
   "metadata": {},
   "outputs": [
    {
     "data": {
      "text/plain": [
       "<Figure size 1080x1080 with 0 Axes>"
      ]
     },
     "metadata": {},
     "output_type": "display_data"
    }
   ],
   "source": [
    "plt.savefig(path_media + \"type_matrix.pdf\")"
   ]
  },
  {
   "cell_type": "code",
   "execution_count": 33,
   "metadata": {},
   "outputs": [],
   "source": [
    "terms = elements + random.sample([str(i) for i in range(10,100)],10) + random.sample([i+j for i in elements for j in elements],10)\n",
    "contexts = elements\n",
    "\n",
    "# terms = list(string.ascii_lowercase) + [i+j for i in string.ascii_lowercase for j in string.ascii_lowercase]\n",
    "# contexts = list(string.ascii_lowercase)\n",
    "\n",
    "matrix_R = pmi_matrix(terms,contexts, ng1, ng2, ng3, independent=False, context_side=\"right\")\n",
    "matrix_L = pmi_matrix(terms,contexts, ng1, ng2, ng3, independent=False, context_side=\"left\")\n",
    "\n",
    "matrixLR = (matrix_R + matrix_L)/2"
   ]
  },
  {
   "cell_type": "code",
   "execution_count": 34,
   "metadata": {},
   "outputs": [],
   "source": [
    "methods = [\"single\", \"complete\", \"average\", \"weighted\", \"centroid\", \"median\", \"ward\"]\n",
    "method = \"ward\"\n",
    "row_linkage_2d = hierarchy.linkage(\n",
    "    distance.pdist(matrixLR), method=method)\n",
    "\n",
    "col_linkage_2d = hierarchy.linkage(\n",
    "    distance.pdist(matrixLR.T), method=method)"
   ]
  },
  {
   "cell_type": "code",
   "execution_count": 35,
   "metadata": {},
   "outputs": [
    {
     "name": "stderr",
     "output_type": "stream",
     "text": [
      "/usr/local/lib/python3.9/site-packages/seaborn/matrix.py:1216: UserWarning: ``square=True`` ignored in clustermap\n",
      "  warnings.warn(msg)\n"
     ]
    },
    {
     "data": {
      "image/png": "[encoded data removed]",
      "text/plain": [
       "<Figure size 1440x936 with 4 Axes>"
      ]
     },
     "metadata": {},
     "output_type": "display_data"
    }
   ],
   "source": [
    "hcluster_normPMI_2d = sns.clustermap(\n",
    "    matrixLR.T,\n",
    "    row_linkage=col_linkage_2d,\n",
    "    col_linkage=row_linkage_2d,\n",
    "    method=\"ward\",\n",
    "    yticklabels = contexts,\n",
    "    xticklabels = terms,\n",
    "    center = 0,\n",
    "    figsize=(20, 13),\n",
    "    dendrogram_ratio=(.1, .1),\n",
    "    linewidths=.5,\n",
    "    cmap=\"coolwarm\",\n",
    "    cbar_pos=(1.02, 0.03, .03, .87),\n",
    "    square=True,)\n",
    "plt.setp(hcluster_normPMI_2d.ax_heatmap.yaxis.get_majorticklabels(), rotation=0);"
   ]
  },
  {
   "cell_type": "code",
   "execution_count": 36,
   "metadata": {},
   "outputs": [],
   "source": [
    "hcluster_normPMI_2d.savefig(path_media + \"hcluster_normPMI_2d.pdf\")"
   ]
  },
  {
   "cell_type": "code",
   "execution_count": 37,
   "metadata": {},
   "outputs": [
    {
     "data": {
      "image/png": "[encoded data removed]",
      "text/plain": [
       "<Figure size 1800x360 with 2 Axes>"
      ]
     },
     "metadata": {},
     "output_type": "display_data"
    }
   ],
   "source": [
    "inds = [\"*\",\"_\",\"~\"]\n",
    "matrix_ind_R = pmi_matrix(inds,contexts+inds, ng1, ng2, ng3, independent=False, context_side=\"right\")\n",
    "matrix_ind_L = pmi_matrix(inds,contexts+inds, ng1, ng2, ng3, independent=False, context_side=\"left\")\n",
    "\n",
    "matrix_ind_LR = (matrix_ind_R + matrix_ind_L)/2\n",
    "\n",
    "sns.set(\n",
    "    rc = {'figure.figsize':(25,5)},\n",
    "    font=\"Courier\"\n",
    "    )\n",
    "hm = sns.heatmap(\n",
    "    matrix_ind_LR,\n",
    "    xticklabels=contexts+inds,\n",
    "    yticklabels=inds,\n",
    "    linewidths=.5,\n",
    "    cmap=\"coolwarm\",\n",
    "    center = 0,\n",
    "    square=True,\n",
    "    ).tick_params(\n",
    "        axis='both',\n",
    "        which='major',\n",
    "        labelsize=11,\n",
    "        labelbottom = False,\n",
    "        labelright = False, \n",
    "        bottom=False, \n",
    "        top = False, \n",
    "        labeltop=True)\n",
    "\n",
    "plt.yticks(rotation=0);"
   ]
  },
  {
   "cell_type": "markdown",
   "metadata": {},
   "source": [
    "# Informational Content"
   ]
  },
  {
   "cell_type": "code",
   "execution_count": 28,
   "metadata": {},
   "outputs": [],
   "source": [
    "digits = {str(n) for n in range(10)}\n",
    "digits_sort = [str(n) for n in range(10)]\n",
    "benford = {str(n):np.log10((n+1)/n) for n in range(1,10)}"
   ]
  },
  {
   "cell_type": "code",
   "execution_count": 29,
   "metadata": {},
   "outputs": [],
   "source": [
    "d1 = {str(d):ng1[str(d)] for d in range(1,10)}\n",
    "d1 = util.normalize_dict(d1)"
   ]
  },
  {
   "cell_type": "code",
   "execution_count": 30,
   "metadata": {},
   "outputs": [],
   "source": [
    "d1_leading = defaultdict(int)\n",
    "for e in elements:\n",
    "    if e not in digits:\n",
    "        for d in digits_sort[1:]:\n",
    "            d1_leading[d] =+ ng2[e+d]\n",
    "d1_leading = util.normalize_dict(d1_leading)"
   ]
  },
  {
   "cell_type": "code",
   "execution_count": 31,
   "metadata": {},
   "outputs": [],
   "source": [
    "numerals = util.load_file(path_data + \"numerals.json\")\n",
    "\n",
    "d1_leading_num = defaultdict(int)\n",
    "for num,freq in numerals.items():\n",
    "    if num[0] == \"0\":\n",
    "        while len(num)>0 and num[0] == \"0\":\n",
    "            num = num[1:]\n",
    "    if len(num)==0:\n",
    "        continue\n",
    "    d1_leading_num[num[0]] += freq\n",
    "d1_leading_num = util.normalize_dict({str(n): d1_leading_num[str(n)] for n in digits_sort[1:]})"
   ]
  },
  {
   "cell_type": "code",
   "execution_count": 32,
   "metadata": {},
   "outputs": [
    {
     "name": "stdout",
     "output_type": "stream",
     "text": [
      "2010\t0.021\n",
      "2011\t0.018\n",
      "2008\t0.018\n",
      "2012\t0.018\n",
      "2009\t0.018\n",
      "2007\t0.017\n",
      "2006\t0.017\n",
      "2014\t0.017\n",
      "2013\t0.017\n",
      "2015\t0.017\n"
     ]
    }
   ],
   "source": [
    "d1_4_num = Counter()\n",
    "for num,freq in numerals.items():\n",
    "    if len(num)==4:\n",
    "        d1_4_num[num] += freq\n",
    "d1_4_num = util.normalize_dict(dict(d1_4_num.most_common()))\n",
    "\n",
    "for k,v in list(d1_4_num.items())[:10]:\n",
    "    print(f\"{k}\\t{round(v,3)}\")"
   ]
  },
  {
   "cell_type": "code",
   "execution_count": 33,
   "metadata": {},
   "outputs": [],
   "source": [
    "d1_leading_num_norm = defaultdict(int)\n",
    "for num,freq in numerals.items():\n",
    "    if num[0] == \"0\":\n",
    "        while len(num)>0 and num[0] == \"0\":\n",
    "            num = num[1:]\n",
    "    if len(num)<5:\n",
    "        continue\n",
    "    d1_leading_num_norm[num[0]] += freq\n",
    "d1_leading_num_norm = util.normalize_dict({str(n): d1_leading_num_norm[str(n)] for n in digits_sort[1:]})"
   ]
  },
  {
   "cell_type": "code",
   "execution_count": 34,
   "metadata": {},
   "outputs": [
    {
     "data": {
      "application/vnd.plotly.v1+json": {
       "config": {
        "plotlyServerURL": "https://plot.ly"
       },
       "data": [
        {
         "line": {
          "shape": "spline"
         },
         "mode": "lines+markers",
         "name": "Benford",
         "type": "scatter",
         "x": [
          "1",
          "2",
          "3",
          "4",
          "5",
          "6",
          "7",
          "8",
          "9"
         ],
         "y": [
          0.3010299956639812,
          0.17609125905568124,
          0.12493873660829993,
          0.09691001300805642,
          0.07918124604762482,
          0.06694678963061322,
          0.05799194697768673,
          0.05115252244738129,
          0.04575749056067514
         ]
        },
        {
         "line": {
          "shape": "spline"
         },
         "mode": "lines+markers",
         "name": "Uniform",
         "type": "scatter",
         "x": [
          "1",
          "2",
          "3",
          "4",
          "5",
          "6",
          "7",
          "8",
          "9"
         ],
         "y": [
          0.26812993268745694,
          0.16515658302057834,
          0.06724658734761448,
          0.06379519291148442,
          0.06696041509165357,
          0.06430891122189865,
          0.06382989642267801,
          0.08217873404396131,
          0.15839374725267427
         ]
        },
        {
         "line": {
          "shape": "spline"
         },
         "mode": "lines+markers",
         "name": "Marginal Bigram",
         "type": "scatter",
         "x": [
          "1",
          "2",
          "3",
          "4",
          "5",
          "6",
          "7",
          "8",
          "9"
         ],
         "y": [
          0.4694397503544643,
          0.21812788199093458,
          0.0722463842033192,
          0.05407044772939596,
          0.04098707379585001,
          0.04088685130906261,
          0.03583922838909532,
          0.033118003596596286,
          0.03528437863128183
         ]
        },
        {
         "line": {
          "shape": "spline"
         },
         "mode": "lines+markers",
         "name": "Numerals",
         "type": "scatter",
         "x": [
          "1",
          "2",
          "3",
          "4",
          "5",
          "6",
          "7",
          "8",
          "9"
         ],
         "y": [
          0.46821511303515534,
          0.2867814570084524,
          0.05945541173611328,
          0.04251966306933123,
          0.03624366499340264,
          0.03296285364144497,
          0.024879491186956884,
          0.02312546372911255,
          0.025816881600030737
         ]
        },
        {
         "line": {
          "shape": "spline"
         },
         "mode": "lines+markers",
         "name": "Numerals ≥ 5-digits",
         "type": "scatter",
         "x": [
          "1",
          "2",
          "3",
          "4",
          "5",
          "6",
          "7",
          "8",
          "9"
         ],
         "y": [
          0.3416521068390485,
          0.1968521366802286,
          0.12989898379346201,
          0.10001832400932592,
          0.08910587274969321,
          0.04503104871327609,
          0.03733442024930999,
          0.03296851401541667,
          0.027138592950239016
         ]
        }
       ],
       "layout": {
        "height": 400,
        "legend": {
         "x": 1,
         "xanchor": "right",
         "y": 1,
         "yanchor": "top"
        },
        "template": {
         "data": {
          "bar": [
           {
            "error_x": {
             "color": "rgb(36,36,36)"
            },
            "error_y": {
             "color": "rgb(36,36,36)"
            },
            "marker": {
             "line": {
              "color": "white",
              "width": 0.5
             }
            },
            "type": "bar"
           }
          ],
          "barpolar": [
           {
            "marker": {
             "line": {
              "color": "white",
              "width": 0.5
             }
            },
            "type": "barpolar"
           }
          ],
          "carpet": [
           {
            "aaxis": {
             "endlinecolor": "rgb(36,36,36)",
             "gridcolor": "white",
             "linecolor": "white",
             "minorgridcolor": "white",
             "startlinecolor": "rgb(36,36,36)"
            },
            "baxis": {
             "endlinecolor": "rgb(36,36,36)",
             "gridcolor": "white",
             "linecolor": "white",
             "minorgridcolor": "white",
             "startlinecolor": "rgb(36,36,36)"
            },
            "type": "carpet"
           }
          ],
          "choropleth": [
           {
            "colorbar": {
             "outlinewidth": 1,
             "tickcolor": "rgb(36,36,36)",
             "ticks": "outside"
            },
            "type": "choropleth"
           }
          ],
          "contour": [
           {
            "colorbar": {
             "outlinewidth": 1,
             "tickcolor": "rgb(36,36,36)",
             "ticks": "outside"
            },
            "colorscale": [
             [
              0,
              "#440154"
             ],
             [
              0.1111111111111111,
              "#482878"
             ],
             [
              0.2222222222222222,
              "#3e4989"
             ],
             [
              0.3333333333333333,
              "#31688e"
             ],
             [
              0.4444444444444444,
              "#26828e"
             ],
             [
              0.5555555555555556,
              "#1f9e89"
             ],
             [
              0.6666666666666666,
              "#35b779"
             ],
             [
              0.7777777777777778,
              "#6ece58"
             ],
             [
              0.8888888888888888,
              "#b5de2b"
             ],
             [
              1,
              "#fde725"
             ]
            ],
            "type": "contour"
           }
          ],
          "contourcarpet": [
           {
            "colorbar": {
             "outlinewidth": 1,
             "tickcolor": "rgb(36,36,36)",
             "ticks": "outside"
            },
            "type": "contourcarpet"
           }
          ],
          "heatmap": [
           {
            "colorbar": {
             "outlinewidth": 1,
             "tickcolor": "rgb(36,36,36)",
             "ticks": "outside"
            },
            "colorscale": [
             [
              0,
              "#440154"
             ],
             [
              0.1111111111111111,
              "#482878"
             ],
             [
              0.2222222222222222,
              "#3e4989"
             ],
             [
              0.3333333333333333,
              "#31688e"
             ],
             [
              0.4444444444444444,
              "#26828e"
             ],
             [
              0.5555555555555556,
              "#1f9e89"
             ],
             [
              0.6666666666666666,
              "#35b779"
             ],
             [
              0.7777777777777778,
              "#6ece58"
             ],
             [
              0.8888888888888888,
              "#b5de2b"
             ],
             [
              1,
              "#fde725"
             ]
            ],
            "type": "heatmap"
           }
          ],
          "heatmapgl": [
           {
            "colorbar": {
             "outlinewidth": 1,
             "tickcolor": "rgb(36,36,36)",
             "ticks": "outside"
            },
            "colorscale": [
             [
              0,
              "#440154"
             ],
             [
              0.1111111111111111,
              "#482878"
             ],
             [
              0.2222222222222222,
              "#3e4989"
             ],
             [
              0.3333333333333333,
              "#31688e"
             ],
             [
              0.4444444444444444,
              "#26828e"
             ],
             [
              0.5555555555555556,
              "#1f9e89"
             ],
             [
              0.6666666666666666,
              "#35b779"
             ],
             [
              0.7777777777777778,
              "#6ece58"
             ],
             [
              0.8888888888888888,
              "#b5de2b"
             ],
             [
              1,
              "#fde725"
             ]
            ],
            "type": "heatmapgl"
           }
          ],
          "histogram": [
           {
            "marker": {
             "line": {
              "color": "white",
              "width": 0.6
             }
            },
            "type": "histogram"
           }
          ],
          "histogram2d": [
           {
            "colorbar": {
             "outlinewidth": 1,
             "tickcolor": "rgb(36,36,36)",
             "ticks": "outside"
            },
            "colorscale": [
             [
              0,
              "#440154"
             ],
             [
              0.1111111111111111,
              "#482878"
             ],
             [
              0.2222222222222222,
              "#3e4989"
             ],
             [
              0.3333333333333333,
              "#31688e"
             ],
             [
              0.4444444444444444,
              "#26828e"
             ],
             [
              0.5555555555555556,
              "#1f9e89"
             ],
             [
              0.6666666666666666,
              "#35b779"
             ],
             [
              0.7777777777777778,
              "#6ece58"
             ],
             [
              0.8888888888888888,
              "#b5de2b"
             ],
             [
              1,
              "#fde725"
             ]
            ],
            "type": "histogram2d"
           }
          ],
          "histogram2dcontour": [
           {
            "colorbar": {
             "outlinewidth": 1,
             "tickcolor": "rgb(36,36,36)",
             "ticks": "outside"
            },
            "colorscale": [
             [
              0,
              "#440154"
             ],
             [
              0.1111111111111111,
              "#482878"
             ],
             [
              0.2222222222222222,
              "#3e4989"
             ],
             [
              0.3333333333333333,
              "#31688e"
             ],
             [
              0.4444444444444444,
              "#26828e"
             ],
             [
              0.5555555555555556,
              "#1f9e89"
             ],
             [
              0.6666666666666666,
              "#35b779"
             ],
             [
              0.7777777777777778,
              "#6ece58"
             ],
             [
              0.8888888888888888,
              "#b5de2b"
             ],
             [
              1,
              "#fde725"
             ]
            ],
            "type": "histogram2dcontour"
           }
          ],
          "mesh3d": [
           {
            "colorbar": {
             "outlinewidth": 1,
             "tickcolor": "rgb(36,36,36)",
             "ticks": "outside"
            },
            "type": "mesh3d"
           }
          ],
          "parcoords": [
           {
            "line": {
             "colorbar": {
              "outlinewidth": 1,
              "tickcolor": "rgb(36,36,36)",
              "ticks": "outside"
             }
            },
            "type": "parcoords"
           }
          ],
          "pie": [
           {
            "automargin": true,
            "type": "pie"
           }
          ],
          "scatter": [
           {
            "marker": {
             "colorbar": {
              "outlinewidth": 1,
              "tickcolor": "rgb(36,36,36)",
              "ticks": "outside"
             }
            },
            "type": "scatter"
           }
          ],
          "scatter3d": [
           {
            "line": {
             "colorbar": {
              "outlinewidth": 1,
              "tickcolor": "rgb(36,36,36)",
              "ticks": "outside"
             }
            },
            "marker": {
             "colorbar": {
              "outlinewidth": 1,
              "tickcolor": "rgb(36,36,36)",
              "ticks": "outside"
             }
            },
            "type": "scatter3d"
           }
          ],
          "scattercarpet": [
           {
            "marker": {
             "colorbar": {
              "outlinewidth": 1,
              "tickcolor": "rgb(36,36,36)",
              "ticks": "outside"
             }
            },
            "type": "scattercarpet"
           }
          ],
          "scattergeo": [
           {
            "marker": {
             "colorbar": {
              "outlinewidth": 1,
              "tickcolor": "rgb(36,36,36)",
              "ticks": "outside"
             }
            },
            "type": "scattergeo"
           }
          ],
          "scattergl": [
           {
            "marker": {
             "colorbar": {
              "outlinewidth": 1,
              "tickcolor": "rgb(36,36,36)",
              "ticks": "outside"
             }
            },
            "type": "scattergl"
           }
          ],
          "scattermapbox": [
           {
            "marker": {
             "colorbar": {
              "outlinewidth": 1,
              "tickcolor": "rgb(36,36,36)",
              "ticks": "outside"
             }
            },
            "type": "scattermapbox"
           }
          ],
          "scatterpolar": [
           {
            "marker": {
             "colorbar": {
              "outlinewidth": 1,
              "tickcolor": "rgb(36,36,36)",
              "ticks": "outside"
             }
            },
            "type": "scatterpolar"
           }
          ],
          "scatterpolargl": [
           {
            "marker": {
             "colorbar": {
              "outlinewidth": 1,
              "tickcolor": "rgb(36,36,36)",
              "ticks": "outside"
             }
            },
            "type": "scatterpolargl"
           }
          ],
          "scatterternary": [
           {
            "marker": {
             "colorbar": {
              "outlinewidth": 1,
              "tickcolor": "rgb(36,36,36)",
              "ticks": "outside"
             }
            },
            "type": "scatterternary"
           }
          ],
          "surface": [
           {
            "colorbar": {
             "outlinewidth": 1,
             "tickcolor": "rgb(36,36,36)",
             "ticks": "outside"
            },
            "colorscale": [
             [
              0,
              "#440154"
             ],
             [
              0.1111111111111111,
              "#482878"
             ],
             [
              0.2222222222222222,
              "#3e4989"
             ],
             [
              0.3333333333333333,
              "#31688e"
             ],
             [
              0.4444444444444444,
              "#26828e"
             ],
             [
              0.5555555555555556,
              "#1f9e89"
             ],
             [
              0.6666666666666666,
              "#35b779"
             ],
             [
              0.7777777777777778,
              "#6ece58"
             ],
             [
              0.8888888888888888,
              "#b5de2b"
             ],
             [
              1,
              "#fde725"
             ]
            ],
            "type": "surface"
           }
          ],
          "table": [
           {
            "cells": {
             "fill": {
              "color": "rgb(237,237,237)"
             },
             "line": {
              "color": "white"
             }
            },
            "header": {
             "fill": {
              "color": "rgb(217,217,217)"
             },
             "line": {
              "color": "white"
             }
            },
            "type": "table"
           }
          ]
         },
         "layout": {
          "annotationdefaults": {
           "arrowhead": 0,
           "arrowwidth": 1
          },
          "autotypenumbers": "strict",
          "coloraxis": {
           "colorbar": {
            "outlinewidth": 1,
            "tickcolor": "rgb(36,36,36)",
            "ticks": "outside"
           }
          },
          "colorscale": {
           "diverging": [
            [
             0,
             "rgb(103,0,31)"
            ],
            [
             0.1,
             "rgb(178,24,43)"
            ],
            [
             0.2,
             "rgb(214,96,77)"
            ],
            [
             0.3,
             "rgb(244,165,130)"
            ],
            [
             0.4,
             "rgb(253,219,199)"
            ],
            [
             0.5,
             "rgb(247,247,247)"
            ],
            [
             0.6,
             "rgb(209,229,240)"
            ],
            [
             0.7,
             "rgb(146,197,222)"
            ],
            [
             0.8,
             "rgb(67,147,195)"
            ],
            [
             0.9,
             "rgb(33,102,172)"
            ],
            [
             1,
             "rgb(5,48,97)"
            ]
           ],
           "sequential": [
            [
             0,
             "#440154"
            ],
            [
             0.1111111111111111,
             "#482878"
            ],
            [
             0.2222222222222222,
             "#3e4989"
            ],
            [
             0.3333333333333333,
             "#31688e"
            ],
            [
             0.4444444444444444,
             "#26828e"
            ],
            [
             0.5555555555555556,
             "#1f9e89"
            ],
            [
             0.6666666666666666,
             "#35b779"
            ],
            [
             0.7777777777777778,
             "#6ece58"
            ],
            [
             0.8888888888888888,
             "#b5de2b"
            ],
            [
             1,
             "#fde725"
            ]
           ],
           "sequentialminus": [
            [
             0,
             "#440154"
            ],
            [
             0.1111111111111111,
             "#482878"
            ],
            [
             0.2222222222222222,
             "#3e4989"
            ],
            [
             0.3333333333333333,
             "#31688e"
            ],
            [
             0.4444444444444444,
             "#26828e"
            ],
            [
             0.5555555555555556,
             "#1f9e89"
            ],
            [
             0.6666666666666666,
             "#35b779"
            ],
            [
             0.7777777777777778,
             "#6ece58"
            ],
            [
             0.8888888888888888,
             "#b5de2b"
            ],
            [
             1,
             "#fde725"
            ]
           ]
          },
          "colorway": [
           "#1F77B4",
           "#FF7F0E",
           "#2CA02C",
           "#D62728",
           "#9467BD",
           "#8C564B",
           "#E377C2",
           "#7F7F7F",
           "#BCBD22",
           "#17BECF"
          ],
          "font": {
           "color": "rgb(36,36,36)"
          },
          "geo": {
           "bgcolor": "white",
           "lakecolor": "white",
           "landcolor": "white",
           "showlakes": true,
           "showland": true,
           "subunitcolor": "white"
          },
          "hoverlabel": {
           "align": "left"
          },
          "hovermode": "closest",
          "mapbox": {
           "style": "light"
          },
          "paper_bgcolor": "white",
          "plot_bgcolor": "white",
          "polar": {
           "angularaxis": {
            "gridcolor": "rgb(232,232,232)",
            "linecolor": "rgb(36,36,36)",
            "showgrid": false,
            "showline": true,
            "ticks": "outside"
           },
           "bgcolor": "white",
           "radialaxis": {
            "gridcolor": "rgb(232,232,232)",
            "linecolor": "rgb(36,36,36)",
            "showgrid": false,
            "showline": true,
            "ticks": "outside"
           }
          },
          "scene": {
           "xaxis": {
            "backgroundcolor": "white",
            "gridcolor": "rgb(232,232,232)",
            "gridwidth": 2,
            "linecolor": "rgb(36,36,36)",
            "showbackground": true,
            "showgrid": false,
            "showline": true,
            "ticks": "outside",
            "zeroline": false,
            "zerolinecolor": "rgb(36,36,36)"
           },
           "yaxis": {
            "backgroundcolor": "white",
            "gridcolor": "rgb(232,232,232)",
            "gridwidth": 2,
            "linecolor": "rgb(36,36,36)",
            "showbackground": true,
            "showgrid": false,
            "showline": true,
            "ticks": "outside",
            "zeroline": false,
            "zerolinecolor": "rgb(36,36,36)"
           },
           "zaxis": {
            "backgroundcolor": "white",
            "gridcolor": "rgb(232,232,232)",
            "gridwidth": 2,
            "linecolor": "rgb(36,36,36)",
            "showbackground": true,
            "showgrid": false,
            "showline": true,
            "ticks": "outside",
            "zeroline": false,
            "zerolinecolor": "rgb(36,36,36)"
           }
          },
          "shapedefaults": {
           "fillcolor": "black",
           "line": {
            "width": 0
           },
           "opacity": 0.3
          },
          "ternary": {
           "aaxis": {
            "gridcolor": "rgb(232,232,232)",
            "linecolor": "rgb(36,36,36)",
            "showgrid": false,
            "showline": true,
            "ticks": "outside"
           },
           "baxis": {
            "gridcolor": "rgb(232,232,232)",
            "linecolor": "rgb(36,36,36)",
            "showgrid": false,
            "showline": true,
            "ticks": "outside"
           },
           "bgcolor": "white",
           "caxis": {
            "gridcolor": "rgb(232,232,232)",
            "linecolor": "rgb(36,36,36)",
            "showgrid": false,
            "showline": true,
            "ticks": "outside"
           }
          },
          "title": {
           "x": 0.05
          },
          "xaxis": {
           "automargin": true,
           "gridcolor": "rgb(232,232,232)",
           "linecolor": "rgb(36,36,36)",
           "showgrid": false,
           "showline": true,
           "ticks": "outside",
           "title": {
            "standoff": 15
           },
           "zeroline": false,
           "zerolinecolor": "rgb(36,36,36)"
          },
          "yaxis": {
           "automargin": true,
           "gridcolor": "rgb(232,232,232)",
           "linecolor": "rgb(36,36,36)",
           "showgrid": false,
           "showline": true,
           "ticks": "outside",
           "title": {
            "standoff": 15
           },
           "zeroline": false,
           "zerolinecolor": "rgb(36,36,36)"
          }
         }
        },
        "title": {
         "text": "Distribution of digits"
        },
        "width": 500,
        "xaxis": {
         "title": {
          "text": "d1"
         }
        },
        "yaxis": {
         "showgrid": true,
         "title": {
          "text": "p(d1)"
         }
        }
       }
      }
     },
     "metadata": {},
     "output_type": "display_data"
    }
   ],
   "source": [
    "fig = go.Figure()\n",
    "for d_,label in zip([benford,d1,d1_leading,d1_leading_num, d1_leading_num_norm],[\"Benford\",\"Uniform\", \"Marginal Bigram\", \"Numerals\", \"Numerals ≥ 5-digits\"]):\n",
    "    fig.add_trace(go.Scatter(x=list(d_.keys()), y=list(d_.values()), name = label, line_shape=\"spline\", mode='lines+markers'))\n",
    "fig.update_yaxes(showgrid=True)\n",
    "fig.update_layout(\n",
    "    title=\"Distribution of digits\",\n",
    "    xaxis_title=\"d1\",\n",
    "    yaxis_title=\"p(d1)\",\n",
    "    template=\"simple_white\",\n",
    "    legend=dict(\n",
    "        yanchor=\"top\",\n",
    "        y=1,\n",
    "        xanchor=\"right\",\n",
    "        x=1),\n",
    "    width=500, height=400,\n",
    "    )"
   ]
  },
  {
   "cell_type": "code",
   "execution_count": 35,
   "metadata": {},
   "outputs": [],
   "source": [
    "fig.write_image(path_media + \"benford.pdf\")"
   ]
  },
  {
   "cell_type": "code",
   "execution_count": 46,
   "metadata": {},
   "outputs": [],
   "source": [
    "d1_2_leading_num_norm = defaultdict(int)\n",
    "for num,freq in numerals.items():\n",
    "    if num[0] == \"0\":\n",
    "        while len(num)>0 and num[0] == \"0\":\n",
    "            num = num[1:]\n",
    "    if len(num)<5:\n",
    "        continue\n",
    "    d1_2_leading_num_norm[num[:2]] += freq\n",
    "\n",
    "d1_2_leading_num_norm = util.normalize_dict({str(n): d1_2_leading_num_norm[str(n)] for n in range(10,100)})# if str(n)[-1]!=\"0\"})"
   ]
  },
  {
   "cell_type": "code",
   "execution_count": 47,
   "metadata": {},
   "outputs": [],
   "source": [
    "x = np.array([int(x) for x in d1_2_leading_num_norm.keys()])\n",
    "y = np.array(list(d1_2_leading_num_norm.values()))\n",
    "def BL(num):\n",
    "    return np.log10(1+(1/num))\n",
    "\n",
    "benford_line = BL(x)\n",
    "lowess =  sm.nonparametric.lowess(exog=x, endog=y)"
   ]
  },
  {
   "cell_type": "code",
   "execution_count": 48,
   "metadata": {},
   "outputs": [
    {
     "data": {
      "application/vnd.plotly.v1+json": {
       "config": {
        "plotlyServerURL": "https://plot.ly"
       },
       "data": [
        {
         "mode": "markers",
         "name": "2-digit sequences",
         "type": "scatter",
         "x": [
          10,
          11,
          12,
          13,
          14,
          15,
          16,
          17,
          18,
          19,
          20,
          21,
          22,
          23,
          24,
          25,
          26,
          27,
          28,
          29,
          30,
          31,
          32,
          33,
          34,
          35,
          36,
          37,
          38,
          39,
          40,
          41,
          42,
          43,
          44,
          45,
          46,
          47,
          48,
          49,
          50,
          51,
          52,
          53,
          54,
          55,
          56,
          57,
          58,
          59,
          60,
          61,
          62,
          63,
          64,
          65,
          66,
          67,
          68,
          69,
          70,
          71,
          72,
          73,
          74,
          75,
          76,
          77,
          78,
          79,
          80,
          81,
          82,
          83,
          84,
          85,
          86,
          87,
          88,
          89,
          90,
          91,
          92,
          93,
          94,
          95,
          96,
          97,
          98,
          99
         ],
         "y": [
          0.08498827998541703,
          0.03084505266723245,
          0.03543013910182949,
          0.026305163640482392,
          0.025474729339679487,
          0.03446928577476934,
          0.02351163710728966,
          0.022696722398337827,
          0.02700408982086307,
          0.030927007003147756,
          0.05586236245761722,
          0.017188628658913952,
          0.017620182221790216,
          0.015534566895839307,
          0.014338196955600626,
          0.02668362386281552,
          0.013267072844335499,
          0.012999700226831088,
          0.01235277829282856,
          0.011005024263656628,
          0.02834503701150383,
          0.012660719667978753,
          0.012054638765163255,
          0.011124552348263999,
          0.010228500124020599,
          0.014993287095840559,
          0.010629286776735969,
          0.010258994760640246,
          0.01068374148498534,
          0.00892022575832946,
          0.022416280650853566,
          0.010107610671706995,
          0.010018577223719273,
          0.008663744082474924,
          0.008113751529156277,
          0.010774953121303036,
          0.00787877946306024,
          0.007661505177145251,
          0.007551506666481521,
          0.006831615423424837,
          0.029168119926693072,
          0.00737670705300104,
          0.0071697791616534305,
          0.006718077356724898,
          0.006527213604310853,
          0.007781305535293866,
          0.006358404008737803,
          0.00622362860582061,
          0.006038482597772748,
          0.005744154899684898,
          0.015434097959119217,
          0.004256996817394576,
          0.0036250499281606265,
          0.0028651344745406543,
          0.002888549999087884,
          0.004573650945864669,
          0.0028929063757478332,
          0.0026652856952654627,
          0.0034717599244386468,
          0.0023576165936565166,
          0.008288551142636756,
          0.0028515207974783114,
          0.0031668135582421696,
          0.0029607024875183004,
          0.002508728409048521,
          0.006443081080065575,
          0.003054909132789712,
          0.0029530788283633883,
          0.002642414717800727,
          0.0024646200953665305,
          0.010502135032973687,
          0.002721374044762315,
          0.002593133206835046,
          0.0021724705856086554,
          0.0024414768443605478,
          0.0035910157355047694,
          0.0022438062534153314,
          0.0022203907288681018,
          0.002399818992549779,
          0.00208289259053844,
          0.006165362067993782,
          0.002332839701403053,
          0.0021689310295724463,
          0.0019543794790699244,
          0.0019674486090497734,
          0.0024853128845012916,
          0.0019072761564342187,
          0.003723068403009494,
          0.0019181670980840928,
          0.0025158075211209395
         ]
        },
        {
         "line": {
          "shape": "spline"
         },
         "mode": "lines",
         "name": "Benford",
         "type": "scatter",
         "x": [
          10,
          11,
          12,
          13,
          14,
          15,
          16,
          17,
          18,
          19,
          20,
          21,
          22,
          23,
          24,
          25,
          26,
          27,
          28,
          29,
          30,
          31,
          32,
          33,
          34,
          35,
          36,
          37,
          38,
          39,
          40,
          41,
          42,
          43,
          44,
          45,
          46,
          47,
          48,
          49,
          50,
          51,
          52,
          53,
          54,
          55,
          56,
          57,
          58,
          59,
          60,
          61,
          62,
          63,
          64,
          65,
          66,
          67,
          68,
          69,
          70,
          71,
          72,
          73,
          74,
          75,
          76,
          77,
          78,
          79,
          80,
          81,
          82,
          83,
          84,
          85,
          86,
          87,
          88,
          89,
          90,
          91,
          92,
          93,
          94,
          95,
          96,
          97,
          98,
          99
         ],
         "y": [
          0.04139268515822508,
          0.037788560889399754,
          0.03476210625921191,
          0.032184683371401235,
          0.029963223377443202,
          0.028028723600243534,
          0.02632893872234915,
          0.024823583725032145,
          0.0234810958495229,
          0.022276394711152208,
          0.021189299069938092,
          0.02020338608828699,
          0.019305155195386624,
          0.018483405694013133,
          0.017728766960431616,
          0.01703333929878037,
          0.016390416188169384,
          0.015794267183231885,
          0.015239966556736905,
          0.014723256820706378,
          0.014240439114610285,
          0.013788284485633285,
          0.013363961557981502,
          0.012964977164367635,
          0.012589127308020467,
          0.012234456417011586,
          0.01189922329970769,
          0.011581872549815138,
          0.011281010409689084,
          0.010995384301463145,
          0.010723865391773066,
          0.010465433678164979,
          0.010219165181686028,
          0.009984220906600923,
          0.00975983728915624,
          0.009545317906230361,
          0.009340026254143432,
          0.009143379439869719,
          0.008954842652926412,
          0.008773924307505152,
          0.00860017176191757,
          0.008433167536862764,
          0.008272525965989857,
          0.00811789022217946,
          0.007968929671275373,
          0.007825337511956526,
          0.007686828666290955,
          0.007553137890445907,
          0.007424018079206875,
          0.007299238741499423,
          0.007178584627123376,
          0.007061854487486849,
          0.006948859955327825,
          0.006839424530305442,
          0.006733382658968403,
          0.006630578899013076,
          0.006530867158957755,
          0.006434110005409903,
          0.006340178031018975,
          0.006248949277001542,
          0.006160308704818433,
          0.006074147712193166,
          0.00599036368918742,
          0.005908859610520315,
          0.005829543660723891,
          0.005752328889091342,
          0.005677132891690489,
          0.0056038775179984845,
          0.0055324885999610066,
          0.005462895701502187,
          0.005395031886706144,
          0.005328833505066964,
          0.0052642399923572185,
          0.005201193685807724,
          0.005139639652411057,
          0.00507952552927497,
          0.005020801375050812,
          0.0049634195315501435,
          0.0049073344947442015,
          0.004852502794412102,
          0.004798882881768708,
          0.0047464350244616526,
          0.004695121208379868,
          0.004644905045763538,
          0.004595751689149137,
          0.004547627750720661,
          0.00450050122667647,
          0.004454341426249989,
          0.004409118905055016,
          0.0043648054024501125
         ]
        },
        {
         "line": {
          "shape": "spline"
         },
         "mode": "lines",
         "name": "Lowess",
         "type": "scatter",
         "x": [
          10,
          11,
          12,
          13,
          14,
          15,
          16,
          17,
          18,
          19,
          20,
          21,
          22,
          23,
          24,
          25,
          26,
          27,
          28,
          29,
          30,
          31,
          32,
          33,
          34,
          35,
          36,
          37,
          38,
          39,
          40,
          41,
          42,
          43,
          44,
          45,
          46,
          47,
          48,
          49,
          50,
          51,
          52,
          53,
          54,
          55,
          56,
          57,
          58,
          59,
          60,
          61,
          62,
          63,
          64,
          65,
          66,
          67,
          68,
          69,
          70,
          71,
          72,
          73,
          74,
          75,
          76,
          77,
          78,
          79,
          80,
          81,
          82,
          83,
          84,
          85,
          86,
          87,
          88,
          89,
          90,
          91,
          92,
          93,
          94,
          95,
          96,
          97,
          98,
          99
         ],
         "y": [
          0.026196354388248844,
          0.025660838880507915,
          0.02512773632941016,
          0.02459713295085961,
          0.024069095208678608,
          0.02354364222552439,
          0.023020744935336644,
          0.02250035496621173,
          0.021982400751844024,
          0.021466775247112716,
          0.020953297357239917,
          0.020441744020443086,
          0.019931863879806028,
          0.019423396033975495,
          0.018916073953927685,
          0.018409607686110187,
          0.017903661343292358,
          0.017397830793613265,
          0.01689162974600661,
          0.016384467804098718,
          0.015875610352719043,
          0.01536411609683393,
          0.014848773045315664,
          0.014328059726737794,
          0.013800103002770828,
          0.013262723926830713,
          0.012713785938469294,
          0.012152379827273355,
          0.011582284591066482,
          0.011018859523698557,
          0.010585881901601792,
          0.010184737325626523,
          0.009816627000954705,
          0.009479847546700716,
          0.009168714957012922,
          0.0088773123632313,
          0.008600975132461853,
          0.008334785551409669,
          0.008075483109573312,
          0.007821924608006871,
          0.007574373013842212,
          0.007333103272655047,
          0.007097942559538764,
          0.00686869408057439,
          0.006645418761148789,
          0.006428247178968851,
          0.006217341743116138,
          0.006012921565983466,
          0.0058151381495106375,
          0.005624058750273897,
          0.005439678742855693,
          0.00526188141107801,
          0.0050904960305721185,
          0.004925376550757246,
          0.004766344308384149,
          0.004613033551746609,
          0.00446489372063273,
          0.0043217732234931425,
          0.004183686922612714,
          0.004050826179309605,
          0.0039235417267511116,
          0.0038356721992244954,
          0.003751301187607129,
          0.003668739514075315,
          0.0035871890460716076,
          0.003506404900681846,
          0.003426371884603434,
          0.003347115508134479,
          0.003268670837502319,
          0.0031910703867581453,
          0.0031143410543245436,
          0.0030385034323839382,
          0.0029635677663030113,
          0.002889538904262559,
          0.002816420553405564,
          0.002744218706724648,
          0.002672937351205601,
          0.002602571516586316,
          0.0025331170653497184,
          0.0024645726029936116,
          0.0023969378487292206,
          0.002330210656084949,
          0.0022643731382730797,
          0.002199404041948633,
          0.0021352842350248176,
          0.0020719982900196604,
          0.0020095327221090306,
          0.0019478714863987241,
          0.0018869957157353439,
          0.0018268717856278534
         ]
        }
       ],
       "layout": {
        "height": 400,
        "legend": {
         "x": 1,
         "xanchor": "right",
         "y": 1,
         "yanchor": "top"
        },
        "template": {
         "data": {
          "bar": [
           {
            "error_x": {
             "color": "rgb(36,36,36)"
            },
            "error_y": {
             "color": "rgb(36,36,36)"
            },
            "marker": {
             "line": {
              "color": "white",
              "width": 0.5
             }
            },
            "type": "bar"
           }
          ],
          "barpolar": [
           {
            "marker": {
             "line": {
              "color": "white",
              "width": 0.5
             }
            },
            "type": "barpolar"
           }
          ],
          "carpet": [
           {
            "aaxis": {
             "endlinecolor": "rgb(36,36,36)",
             "gridcolor": "white",
             "linecolor": "white",
             "minorgridcolor": "white",
             "startlinecolor": "rgb(36,36,36)"
            },
            "baxis": {
             "endlinecolor": "rgb(36,36,36)",
             "gridcolor": "white",
             "linecolor": "white",
             "minorgridcolor": "white",
             "startlinecolor": "rgb(36,36,36)"
            },
            "type": "carpet"
           }
          ],
          "choropleth": [
           {
            "colorbar": {
             "outlinewidth": 1,
             "tickcolor": "rgb(36,36,36)",
             "ticks": "outside"
            },
            "type": "choropleth"
           }
          ],
          "contour": [
           {
            "colorbar": {
             "outlinewidth": 1,
             "tickcolor": "rgb(36,36,36)",
             "ticks": "outside"
            },
            "colorscale": [
             [
              0,
              "#440154"
             ],
             [
              0.1111111111111111,
              "#482878"
             ],
             [
              0.2222222222222222,
              "#3e4989"
             ],
             [
              0.3333333333333333,
              "#31688e"
             ],
             [
              0.4444444444444444,
              "#26828e"
             ],
             [
              0.5555555555555556,
              "#1f9e89"
             ],
             [
              0.6666666666666666,
              "#35b779"
             ],
             [
              0.7777777777777778,
              "#6ece58"
             ],
             [
              0.8888888888888888,
              "#b5de2b"
             ],
             [
              1,
              "#fde725"
             ]
            ],
            "type": "contour"
           }
          ],
          "contourcarpet": [
           {
            "colorbar": {
             "outlinewidth": 1,
             "tickcolor": "rgb(36,36,36)",
             "ticks": "outside"
            },
            "type": "contourcarpet"
           }
          ],
          "heatmap": [
           {
            "colorbar": {
             "outlinewidth": 1,
             "tickcolor": "rgb(36,36,36)",
             "ticks": "outside"
            },
            "colorscale": [
             [
              0,
              "#440154"
             ],
             [
              0.1111111111111111,
              "#482878"
             ],
             [
              0.2222222222222222,
              "#3e4989"
             ],
             [
              0.3333333333333333,
              "#31688e"
             ],
             [
              0.4444444444444444,
              "#26828e"
             ],
             [
              0.5555555555555556,
              "#1f9e89"
             ],
             [
              0.6666666666666666,
              "#35b779"
             ],
             [
              0.7777777777777778,
              "#6ece58"
             ],
             [
              0.8888888888888888,
              "#b5de2b"
             ],
             [
              1,
              "#fde725"
             ]
            ],
            "type": "heatmap"
           }
          ],
          "heatmapgl": [
           {
            "colorbar": {
             "outlinewidth": 1,
             "tickcolor": "rgb(36,36,36)",
             "ticks": "outside"
            },
            "colorscale": [
             [
              0,
              "#440154"
             ],
             [
              0.1111111111111111,
              "#482878"
             ],
             [
              0.2222222222222222,
              "#3e4989"
             ],
             [
              0.3333333333333333,
              "#31688e"
             ],
             [
              0.4444444444444444,
              "#26828e"
             ],
             [
              0.5555555555555556,
              "#1f9e89"
             ],
             [
              0.6666666666666666,
              "#35b779"
             ],
             [
              0.7777777777777778,
              "#6ece58"
             ],
             [
              0.8888888888888888,
              "#b5de2b"
             ],
             [
              1,
              "#fde725"
             ]
            ],
            "type": "heatmapgl"
           }
          ],
          "histogram": [
           {
            "marker": {
             "line": {
              "color": "white",
              "width": 0.6
             }
            },
            "type": "histogram"
           }
          ],
          "histogram2d": [
           {
            "colorbar": {
             "outlinewidth": 1,
             "tickcolor": "rgb(36,36,36)",
             "ticks": "outside"
            },
            "colorscale": [
             [
              0,
              "#440154"
             ],
             [
              0.1111111111111111,
              "#482878"
             ],
             [
              0.2222222222222222,
              "#3e4989"
             ],
             [
              0.3333333333333333,
              "#31688e"
             ],
             [
              0.4444444444444444,
              "#26828e"
             ],
             [
              0.5555555555555556,
              "#1f9e89"
             ],
             [
              0.6666666666666666,
              "#35b779"
             ],
             [
              0.7777777777777778,
              "#6ece58"
             ],
             [
              0.8888888888888888,
              "#b5de2b"
             ],
             [
              1,
              "#fde725"
             ]
            ],
            "type": "histogram2d"
           }
          ],
          "histogram2dcontour": [
           {
            "colorbar": {
             "outlinewidth": 1,
             "tickcolor": "rgb(36,36,36)",
             "ticks": "outside"
            },
            "colorscale": [
             [
              0,
              "#440154"
             ],
             [
              0.1111111111111111,
              "#482878"
             ],
             [
              0.2222222222222222,
              "#3e4989"
             ],
             [
              0.3333333333333333,
              "#31688e"
             ],
             [
              0.4444444444444444,
              "#26828e"
             ],
             [
              0.5555555555555556,
              "#1f9e89"
             ],
             [
              0.6666666666666666,
              "#35b779"
             ],
             [
              0.7777777777777778,
              "#6ece58"
             ],
             [
              0.8888888888888888,
              "#b5de2b"
             ],
             [
              1,
              "#fde725"
             ]
            ],
            "type": "histogram2dcontour"
           }
          ],
          "mesh3d": [
           {
            "colorbar": {
             "outlinewidth": 1,
             "tickcolor": "rgb(36,36,36)",
             "ticks": "outside"
            },
            "type": "mesh3d"
           }
          ],
          "parcoords": [
           {
            "line": {
             "colorbar": {
              "outlinewidth": 1,
              "tickcolor": "rgb(36,36,36)",
              "ticks": "outside"
             }
            },
            "type": "parcoords"
           }
          ],
          "pie": [
           {
            "automargin": true,
            "type": "pie"
           }
          ],
          "scatter": [
           {
            "marker": {
             "colorbar": {
              "outlinewidth": 1,
              "tickcolor": "rgb(36,36,36)",
              "ticks": "outside"
             }
            },
            "type": "scatter"
           }
          ],
          "scatter3d": [
           {
            "line": {
             "colorbar": {
              "outlinewidth": 1,
              "tickcolor": "rgb(36,36,36)",
              "ticks": "outside"
             }
            },
            "marker": {
             "colorbar": {
              "outlinewidth": 1,
              "tickcolor": "rgb(36,36,36)",
              "ticks": "outside"
             }
            },
            "type": "scatter3d"
           }
          ],
          "scattercarpet": [
           {
            "marker": {
             "colorbar": {
              "outlinewidth": 1,
              "tickcolor": "rgb(36,36,36)",
              "ticks": "outside"
             }
            },
            "type": "scattercarpet"
           }
          ],
          "scattergeo": [
           {
            "marker": {
             "colorbar": {
              "outlinewidth": 1,
              "tickcolor": "rgb(36,36,36)",
              "ticks": "outside"
             }
            },
            "type": "scattergeo"
           }
          ],
          "scattergl": [
           {
            "marker": {
             "colorbar": {
              "outlinewidth": 1,
              "tickcolor": "rgb(36,36,36)",
              "ticks": "outside"
             }
            },
            "type": "scattergl"
           }
          ],
          "scattermapbox": [
           {
            "marker": {
             "colorbar": {
              "outlinewidth": 1,
              "tickcolor": "rgb(36,36,36)",
              "ticks": "outside"
             }
            },
            "type": "scattermapbox"
           }
          ],
          "scatterpolar": [
           {
            "marker": {
             "colorbar": {
              "outlinewidth": 1,
              "tickcolor": "rgb(36,36,36)",
              "ticks": "outside"
             }
            },
            "type": "scatterpolar"
           }
          ],
          "scatterpolargl": [
           {
            "marker": {
             "colorbar": {
              "outlinewidth": 1,
              "tickcolor": "rgb(36,36,36)",
              "ticks": "outside"
             }
            },
            "type": "scatterpolargl"
           }
          ],
          "scatterternary": [
           {
            "marker": {
             "colorbar": {
              "outlinewidth": 1,
              "tickcolor": "rgb(36,36,36)",
              "ticks": "outside"
             }
            },
            "type": "scatterternary"
           }
          ],
          "surface": [
           {
            "colorbar": {
             "outlinewidth": 1,
             "tickcolor": "rgb(36,36,36)",
             "ticks": "outside"
            },
            "colorscale": [
             [
              0,
              "#440154"
             ],
             [
              0.1111111111111111,
              "#482878"
             ],
             [
              0.2222222222222222,
              "#3e4989"
             ],
             [
              0.3333333333333333,
              "#31688e"
             ],
             [
              0.4444444444444444,
              "#26828e"
             ],
             [
              0.5555555555555556,
              "#1f9e89"
             ],
             [
              0.6666666666666666,
              "#35b779"
             ],
             [
              0.7777777777777778,
              "#6ece58"
             ],
             [
              0.8888888888888888,
              "#b5de2b"
             ],
             [
              1,
              "#fde725"
             ]
            ],
            "type": "surface"
           }
          ],
          "table": [
           {
            "cells": {
             "fill": {
              "color": "rgb(237,237,237)"
             },
             "line": {
              "color": "white"
             }
            },
            "header": {
             "fill": {
              "color": "rgb(217,217,217)"
             },
             "line": {
              "color": "white"
             }
            },
            "type": "table"
           }
          ]
         },
         "layout": {
          "annotationdefaults": {
           "arrowhead": 0,
           "arrowwidth": 1
          },
          "autotypenumbers": "strict",
          "coloraxis": {
           "colorbar": {
            "outlinewidth": 1,
            "tickcolor": "rgb(36,36,36)",
            "ticks": "outside"
           }
          },
          "colorscale": {
           "diverging": [
            [
             0,
             "rgb(103,0,31)"
            ],
            [
             0.1,
             "rgb(178,24,43)"
            ],
            [
             0.2,
             "rgb(214,96,77)"
            ],
            [
             0.3,
             "rgb(244,165,130)"
            ],
            [
             0.4,
             "rgb(253,219,199)"
            ],
            [
             0.5,
             "rgb(247,247,247)"
            ],
            [
             0.6,
             "rgb(209,229,240)"
            ],
            [
             0.7,
             "rgb(146,197,222)"
            ],
            [
             0.8,
             "rgb(67,147,195)"
            ],
            [
             0.9,
             "rgb(33,102,172)"
            ],
            [
             1,
             "rgb(5,48,97)"
            ]
           ],
           "sequential": [
            [
             0,
             "#440154"
            ],
            [
             0.1111111111111111,
             "#482878"
            ],
            [
             0.2222222222222222,
             "#3e4989"
            ],
            [
             0.3333333333333333,
             "#31688e"
            ],
            [
             0.4444444444444444,
             "#26828e"
            ],
            [
             0.5555555555555556,
             "#1f9e89"
            ],
            [
             0.6666666666666666,
             "#35b779"
            ],
            [
             0.7777777777777778,
             "#6ece58"
            ],
            [
             0.8888888888888888,
             "#b5de2b"
            ],
            [
             1,
             "#fde725"
            ]
           ],
           "sequentialminus": [
            [
             0,
             "#440154"
            ],
            [
             0.1111111111111111,
             "#482878"
            ],
            [
             0.2222222222222222,
             "#3e4989"
            ],
            [
             0.3333333333333333,
             "#31688e"
            ],
            [
             0.4444444444444444,
             "#26828e"
            ],
            [
             0.5555555555555556,
             "#1f9e89"
            ],
            [
             0.6666666666666666,
             "#35b779"
            ],
            [
             0.7777777777777778,
             "#6ece58"
            ],
            [
             0.8888888888888888,
             "#b5de2b"
            ],
            [
             1,
             "#fde725"
            ]
           ]
          },
          "colorway": [
           "#1F77B4",
           "#FF7F0E",
           "#2CA02C",
           "#D62728",
           "#9467BD",
           "#8C564B",
           "#E377C2",
           "#7F7F7F",
           "#BCBD22",
           "#17BECF"
          ],
          "font": {
           "color": "rgb(36,36,36)"
          },
          "geo": {
           "bgcolor": "white",
           "lakecolor": "white",
           "landcolor": "white",
           "showlakes": true,
           "showland": true,
           "subunitcolor": "white"
          },
          "hoverlabel": {
           "align": "left"
          },
          "hovermode": "closest",
          "mapbox": {
           "style": "light"
          },
          "paper_bgcolor": "white",
          "plot_bgcolor": "white",
          "polar": {
           "angularaxis": {
            "gridcolor": "rgb(232,232,232)",
            "linecolor": "rgb(36,36,36)",
            "showgrid": false,
            "showline": true,
            "ticks": "outside"
           },
           "bgcolor": "white",
           "radialaxis": {
            "gridcolor": "rgb(232,232,232)",
            "linecolor": "rgb(36,36,36)",
            "showgrid": false,
            "showline": true,
            "ticks": "outside"
           }
          },
          "scene": {
           "xaxis": {
            "backgroundcolor": "white",
            "gridcolor": "rgb(232,232,232)",
            "gridwidth": 2,
            "linecolor": "rgb(36,36,36)",
            "showbackground": true,
            "showgrid": false,
            "showline": true,
            "ticks": "outside",
            "zeroline": false,
            "zerolinecolor": "rgb(36,36,36)"
           },
           "yaxis": {
            "backgroundcolor": "white",
            "gridcolor": "rgb(232,232,232)",
            "gridwidth": 2,
            "linecolor": "rgb(36,36,36)",
            "showbackground": true,
            "showgrid": false,
            "showline": true,
            "ticks": "outside",
            "zeroline": false,
            "zerolinecolor": "rgb(36,36,36)"
           },
           "zaxis": {
            "backgroundcolor": "white",
            "gridcolor": "rgb(232,232,232)",
            "gridwidth": 2,
            "linecolor": "rgb(36,36,36)",
            "showbackground": true,
            "showgrid": false,
            "showline": true,
            "ticks": "outside",
            "zeroline": false,
            "zerolinecolor": "rgb(36,36,36)"
           }
          },
          "shapedefaults": {
           "fillcolor": "black",
           "line": {
            "width": 0
           },
           "opacity": 0.3
          },
          "ternary": {
           "aaxis": {
            "gridcolor": "rgb(232,232,232)",
            "linecolor": "rgb(36,36,36)",
            "showgrid": false,
            "showline": true,
            "ticks": "outside"
           },
           "baxis": {
            "gridcolor": "rgb(232,232,232)",
            "linecolor": "rgb(36,36,36)",
            "showgrid": false,
            "showline": true,
            "ticks": "outside"
           },
           "bgcolor": "white",
           "caxis": {
            "gridcolor": "rgb(232,232,232)",
            "linecolor": "rgb(36,36,36)",
            "showgrid": false,
            "showline": true,
            "ticks": "outside"
           }
          },
          "title": {
           "x": 0.05
          },
          "xaxis": {
           "automargin": true,
           "gridcolor": "rgb(232,232,232)",
           "linecolor": "rgb(36,36,36)",
           "showgrid": false,
           "showline": true,
           "ticks": "outside",
           "title": {
            "standoff": 15
           },
           "zeroline": false,
           "zerolinecolor": "rgb(36,36,36)"
          },
          "yaxis": {
           "automargin": true,
           "gridcolor": "rgb(232,232,232)",
           "linecolor": "rgb(36,36,36)",
           "showgrid": false,
           "showline": true,
           "ticks": "outside",
           "title": {
            "standoff": 15
           },
           "zeroline": false,
           "zerolinecolor": "rgb(36,36,36)"
          }
         }
        },
        "title": {
         "text": "Regression over 2-digit sequences"
        },
        "width": 500,
        "xaxis": {
         "title": {
          "text": "d1⊗d2"
         }
        },
        "yaxis": {
         "showgrid": true,
         "title": {
          "text": "p(d1⊗d2)"
         }
        }
       }
      }
     },
     "metadata": {},
     "output_type": "display_data"
    }
   ],
   "source": [
    "fig = go.Figure()\n",
    "\n",
    "fig.add_trace(go.Scatter(x=list(range(10,100)), y=y, mode='markers', name = \"2-digit sequences\"))\n",
    "fig.add_trace(go.Scatter(x=list(range(10,100)), y=benford_line, line_shape=\"spline\", mode=\"lines\", name=\"Benford\"))\n",
    "fig.add_trace(go.Scatter(x=lowess[:, 0], y=lowess[:, 1],  line_shape=\"spline\", mode=\"lines\", name=\"Lowess\"))\n",
    "fig.update_yaxes(showgrid=True)\n",
    "fig.update_layout(\n",
    "    title=\"Regression over 2-digit sequences\",\n",
    "    xaxis_title=\"d1⊗d2\",\n",
    "    yaxis_title=\"p(d1⊗d2)\",\n",
    "    template=\"simple_white\",\n",
    "    legend=dict(\n",
    "        yanchor=\"top\",\n",
    "        y=1,\n",
    "        xanchor=\"right\",\n",
    "        x=1),\n",
    "    width=500, height=400,\n",
    "    )"
   ]
  },
  {
   "cell_type": "code",
   "execution_count": 49,
   "metadata": {},
   "outputs": [],
   "source": [
    "fig.write_image(path_media + \"benford_regression.pdf\")"
   ]
  },
  {
   "cell_type": "code",
   "execution_count": null,
   "metadata": {},
   "outputs": [],
   "source": []
  }
 ],
 "metadata": {
  "kernelspec": {
   "display_name": "Python 3.9.10 64-bit",
   "language": "python",
   "name": "python3"
  },
  "language_info": {
   "codemirror_mode": {
    "name": "ipython",
    "version": 3
   },
   "file_extension": ".py",
   "mimetype": "text/x-python",
   "name": "python",
   "nbconvert_exporter": "python",
   "pygments_lexer": "ipython3",
   "version": "3.9.10"
  },
  "orig_nbformat": 4,
  "vscode": {
   "interpreter": {
    "hash": "aee8b7b246df8f9039afb4144a1f6fd8d2ca17a180786b69acc140d282b71a49"
   }
  }
 },
 "nbformat": 4,
 "nbformat_minor": 2
}
